{
 "cells": [
  {
   "cell_type": "markdown",
   "metadata": {},
   "source": [
    "# Before your start:\n",
    "- Read the README.md file\n",
    "- Comment as much as you can and use the resources in the README.md file\n",
    "- Happy learning!"
   ]
  },
  {
   "cell_type": "code",
   "execution_count": 4,
   "metadata": {},
   "outputs": [],
   "source": [
    "# Import reduce from functools, numpy and pandas\n",
    "from functools import reduce\n",
    "import numpy\n",
    "import pandas"
   ]
  },
  {
   "cell_type": "markdown",
   "metadata": {},
   "source": [
    "# Challenge 1 - Mapping\n",
    "\n",
    "#### We will use the map function to clean up words in a book.\n",
    "\n",
    "In the following cell, we will read a text file containing the book The Prophet by Khalil Gibran."
   ]
  },
  {
   "cell_type": "code",
   "execution_count": 6,
   "metadata": {},
   "outputs": [],
   "source": [
    "# Run this code:\n",
    "\n",
    "location = '../data/58585-0.txt'\n",
    "with open(location, 'r', encoding=\"utf8\") as f:\n",
    "    prophet = f.read().split(' ')"
   ]
  },
  {
   "cell_type": "code",
   "execution_count": 7,
   "metadata": {},
   "outputs": [
    {
     "data": {
      "text/plain": [
       "13637"
      ]
     },
     "execution_count": 7,
     "metadata": {},
     "output_type": "execute_result"
    }
   ],
   "source": [
    "len(prophet)"
   ]
  },
  {
   "cell_type": "markdown",
   "metadata": {},
   "source": [
    "#### Let's remove the first 568 words since they contain information about the book but are not part of the book itself. \n",
    "\n",
    "Do this by removing from `prophet` elements 0 through 567 of the list (you can also do this by keeping elements 568 through the last element)."
   ]
  },
  {
   "cell_type": "code",
   "execution_count": 9,
   "metadata": {},
   "outputs": [
    {
     "name": "stdout",
     "output_type": "stream",
     "text": [
      "['\\ufeffThe', 'Project', 'Gutenberg', 'EBook', 'of', 'The', 'Prophet,', 'by', 'Kahlil', 'Gibran\\n\\nThis', 'eBook', 'is', 'for', 'the', 'use', 'of', 'anyone', 'anywhere', 'in', 'the']\n"
     ]
    }
   ],
   "source": [
    "# your code here\n",
    "#prophet.split()\n",
    "print(prophet[:20])\n",
    "prophet=prophet[568:]\n"
   ]
  },
  {
   "cell_type": "markdown",
   "metadata": {},
   "source": [
    "If you look through the words, you will find that many words have a reference attached to them. For example, let's look at words 1 through 10."
   ]
  },
  {
   "cell_type": "code",
   "execution_count": 11,
   "metadata": {},
   "outputs": [
    {
     "name": "stdout",
     "output_type": "stream",
     "text": [
      "['PROPHET\\n\\n|Almustafa,', 'the{7}', 'chosen', 'and', 'the\\nbeloved,', 'who', 'was', 'a', 'dawn', 'unto']\n"
     ]
    },
    {
     "data": {
      "text/plain": [
       "13069"
      ]
     },
     "execution_count": 11,
     "metadata": {},
     "output_type": "execute_result"
    }
   ],
   "source": [
    "# your code here\n",
    "print(prophet[0:10])\n",
    "len(prophet)"
   ]
  },
  {
   "cell_type": "markdown",
   "metadata": {},
   "source": [
    "#### The next step is to create a function that will remove references. \n",
    "\n",
    "We will do this by splitting the string on the `{` character and keeping only the part before this character. Write your function below."
   ]
  },
  {
   "cell_type": "code",
   "execution_count": 13,
   "metadata": {},
   "outputs": [
    {
     "data": {
      "text/plain": [
       "'the'"
      ]
     },
     "execution_count": 13,
     "metadata": {},
     "output_type": "execute_result"
    }
   ],
   "source": [
    "def reference(x):\n",
    "    \n",
    "    #rem= ['{']\n",
    "    #newlist=[]\n",
    "    #for i in range(len(x)):\n",
    "        #splited=x[].split()\n",
    "        #splited=[word for word in splited if word not in rem]\n",
    "        #splited= [''.join([letter for letter in word if not letter.isdigit() and letter not in rem]) for word in splited]\n",
    "        #reassinging these results to the list\n",
    "        #newlist.append(''.join(splited))\n",
    "    return x.split('{')[0]\n",
    "reference(prophet[1])"
   ]
  },
  {
   "cell_type": "code",
   "execution_count": null,
   "metadata": {},
   "outputs": [],
   "source": []
  },
  {
   "cell_type": "markdown",
   "metadata": {},
   "source": [
    "Now that we have our function, use the `map()` function to apply this function to our book, The Prophet. Return the resulting list to a new list called `prophet_reference`."
   ]
  },
  {
   "cell_type": "code",
   "execution_count": 15,
   "metadata": {},
   "outputs": [
    {
     "name": "stdout",
     "output_type": "stream",
     "text": [
      "['PROPHET\\n\\n|Almustafa,', 'the', 'chosen', 'and', 'the\\nbeloved,', 'who', 'was', 'a', 'dawn', 'unto', 'his', 'own\\nday,', 'had', 'waited', 'twelve', 'years', 'in', 'the', 'city\\nof', 'Orphalese']\n"
     ]
    }
   ],
   "source": [
    "prophet_reference= [] \n",
    "result=list(map(reference, prophet))\n",
    "prophet_reference.extend(result)\n",
    "print(prophet_reference[:20])"
   ]
  },
  {
   "cell_type": "markdown",
   "metadata": {},
   "source": [
    "Another thing you may have noticed is that some words contain a line break. Let's write a function to split those words. Our function will return the string split on the character `\\n`. Write your function in the cell below."
   ]
  },
  {
   "cell_type": "code",
   "execution_count": 17,
   "metadata": {},
   "outputs": [],
   "source": [
    "def line_break(x):\n",
    "    for i in range(len(x)):\n",
    "        x[i] = x[i].replace('\\n', '')\n",
    "    return x\n",
    "    '''\n",
    "    Input: A string\n",
    "    Output: A list of strings split on the line break (\\n) character\n",
    "        \n",
    "    Example:\n",
    "    Input: 'the\\nbeloved'\n",
    "    Output: ['the', 'beloved']\n",
    "    '''\n",
    "    \n",
    "    # your code here"
   ]
  },
  {
   "cell_type": "markdown",
   "metadata": {},
   "source": [
    "Apply the `line_break` function to the `prophet_reference` list. Name the new list `prophet_line`."
   ]
  },
  {
   "cell_type": "code",
   "execution_count": 19,
   "metadata": {
    "scrolled": true
   },
   "outputs": [
    {
     "data": {
      "text/plain": [
       "['PROPHET|Almustafa,',\n",
       " 'the',\n",
       " 'chosen',\n",
       " 'and',\n",
       " 'thebeloved,',\n",
       " 'who',\n",
       " 'was',\n",
       " 'a',\n",
       " 'dawn',\n",
       " 'unto',\n",
       " 'his',\n",
       " 'ownday,',\n",
       " 'had',\n",
       " 'waited',\n",
       " 'twelve',\n",
       " 'years',\n",
       " 'in',\n",
       " 'the',\n",
       " 'cityof',\n",
       " 'Orphalese']"
      ]
     },
     "execution_count": 19,
     "metadata": {},
     "output_type": "execute_result"
    }
   ],
   "source": [
    "# your code here\n",
    "prophet_line=line_break(prophet_reference)\n",
    "prophet_reference[:20]"
   ]
  },
  {
   "cell_type": "markdown",
   "metadata": {},
   "source": [
    "If you look at the elements of `prophet_line`, you will see that the function returned lists and not strings. Our list is now a list of lists. Flatten the list using list comprehension. Assign this new list to `prophet_flat`."
   ]
  },
  {
   "cell_type": "code",
   "execution_count": 21,
   "metadata": {},
   "outputs": [
    {
     "data": {
      "text/plain": [
       "['PROPHET|Almustafa,',\n",
       " 'the',\n",
       " 'chosen',\n",
       " 'and',\n",
       " 'thebeloved,',\n",
       " 'who',\n",
       " 'was',\n",
       " 'a',\n",
       " 'dawn',\n",
       " 'unto',\n",
       " 'his',\n",
       " 'ownday,',\n",
       " 'had',\n",
       " 'waited',\n",
       " 'twelve',\n",
       " 'years',\n",
       " 'in',\n",
       " 'the',\n",
       " 'cityof',\n",
       " 'Orphalese']"
      ]
     },
     "execution_count": 21,
     "metadata": {},
     "output_type": "execute_result"
    }
   ],
   "source": [
    "#prophet_flat = [i for sub in prophet_line for i in sub]\n",
    "#prophet_flat\n",
    "#I still have a list of strings\n",
    "prophet_flat=prophet_reference\n",
    "prophet_flat[:20]"
   ]
  },
  {
   "cell_type": "code",
   "execution_count": 22,
   "metadata": {},
   "outputs": [],
   "source": [
    "# your code here"
   ]
  },
  {
   "cell_type": "markdown",
   "metadata": {},
   "source": [
    "# Challenge 2 - Filtering\n",
    "\n",
    "When printing out a few words from the book, we see that there are words that we may not want to keep if we choose to analyze the corpus of text. Below is a list of words that we would like to get rid of. Create a function that will return false if it contains a word from the list of words specified and true otherwise."
   ]
  },
  {
   "cell_type": "code",
   "execution_count": 83,
   "metadata": {},
   "outputs": [
    {
     "data": {
      "text/plain": [
       "True"
      ]
     },
     "execution_count": 83,
     "metadata": {},
     "output_type": "execute_result"
    }
   ],
   "source": [
    "#def word_filter(x):\n",
    "    #word_list=['and', 'the', 'a', 'an']\n",
    "    #return not any(word in word_list for word in x)\n",
    "def word_filter(x):\n",
    "    word_list=['and', 'the', 'a', 'an']\n",
    "    return x not in word_list\n",
    "\n",
    "\n",
    "word_filter(prophet)\n",
    "    # your code here"
   ]
  },
  {
   "cell_type": "markdown",
   "metadata": {},
   "source": [
    "Use the `filter()` function to filter out the words speficied in the `word_filter()` function. Store the filtered list in the variable `prophet_filter`."
   ]
  },
  {
   "cell_type": "code",
   "execution_count": 106,
   "metadata": {
    "scrolled": true
   },
   "outputs": [
    {
     "name": "stdout",
     "output_type": "stream",
     "text": [
      "['PROPHET|Almustafa,', 'chosen', 'thebeloved,', 'who', 'was', 'dawn', 'unto', 'his', 'ownday,', 'had', 'waited', 'twelve', 'years', 'in', 'cityof', 'Orphalese', 'for', 'his', 'ship', 'that', 'was', 'toreturn', 'bear', 'him', 'back', 'to', 'isle', 'ofhis', 'birth.And', 'in']\n"
     ]
    }
   ],
   "source": [
    "# your code here\n",
    "prophet_filter=[]\n",
    "result2=filter(word_filter,prophet_reference)\n",
    "prophet_filter.extend(result2)\n",
    "\n",
    "print(prophet_filter[:30])"
   ]
  },
  {
   "cell_type": "markdown",
   "metadata": {},
   "source": [
    "# Bonus Challenge\n",
    "\n",
    "Rewrite the `word_filter` function above to not be case sensitive."
   ]
  },
  {
   "cell_type": "code",
   "execution_count": 88,
   "metadata": {},
   "outputs": [],
   "source": [
    "def word_filter_case(x):\n",
    "    word_list=['and', 'the', 'a', 'an']\n",
    "    return x.lower() not in word_list\n",
    "    # your code here"
   ]
  },
  {
   "cell_type": "markdown",
   "metadata": {},
   "source": [
    "# Challenge 3 - Reducing\n",
    "\n",
    "#### Now that we have significantly cleaned up our text corpus, let's use the `reduce()` function to put the words back together into one long string separated by spaces. \n",
    "\n",
    "We will start by writing a function that takes two strings and concatenates them together with a space between the two strings."
   ]
  },
  {
   "cell_type": "code",
   "execution_count": 110,
   "metadata": {},
   "outputs": [],
   "source": [
    "def concat_space(a, b):\n",
    "    return a + ' ' + b\n",
    "    '''\n",
    "    Input:Two strings\n",
    "    Output: A single string separated by a space\n",
    "        \n",
    "    Example:\n",
    "    Input: 'John', 'Smith'\n",
    "    Output: 'John Smith'\n",
    "    '''\n"
   ]
  },
  {
   "cell_type": "code",
   "execution_count": 112,
   "metadata": {
    "scrolled": true
   },
   "outputs": [
    {
     "name": "stdout",
     "output_type": "stream",
     "text": [
      "PROPHET|Almustafa, chosen thebeloved, who was dawn unto his ownday, had waited twelve years in cityof Orphalese for his ship that was toreturn bear him back to isle ofhis birth.And in twelfth year, on seventhday of Ielool, month of reaping, heclimbed hill without city wallsand looked seaward; he beheld hisship coming with mist.Then gates of his heart were flungopen, his joy flew far over sea.And he closed his eyes prayed in thesilences of his soul.*****But as he descended hill, sadnesscame upon him, he thought in hisheart:How shall I go in peace withoutsorrow? Nay, not without wound in thespirit shall I leave this city.  days of pain I have spentwithin its walls, long were thenights of aloneness; who can departfrom his pain his aloneness withoutregret?Too many fragments of spirit have Iscattered in these streets, too manyare children of my longing that walknaked among these hills, I cannotwithdraw from them without burden andan ache.It is not garment I cast off thisday, but skin that I tear with my ownhands.Nor is it thought I leave behind me,but heart made sweet with hunger andwith thirst.*****Yet I cannot tarry longer.The sea that calls all things unto hercalls me, I must embark.For to stay, though hours burn inthe night, is to freeze crystallizeand be bound in mould.Fain would I take with me all that ishere. But how shall I?A voice cannot carry tongue lips that gave it wings. Alonemust it seek ether.And alone without his nest shall theeagle fly across sun.*****Now when he reached foot of thehill, he turned again towards sea,and he saw his ship approaching theharbour, upon her prow mariners,the men of his own land.And his soul cried out to them, hesaid:Sons of my ancient mother, you riders ofthe tides,How often have you sailed in my dreams.And now you come in my awakening, whichis my deeper dream.Ready am I to go, my eagerness withsails full set awaits wind.Only another breath will I breathe inthis still air, only another loving lookcast backward,And then I shall stand among you, aseafarer among seafarers.  you,vast sea, sleepless mother,Who alone are peace freedom to theriver stream,Only another winding will this streammake, only another murmur in this glade,And then shall I come to you, aboundless drop to boundless ocean.*****And as he walked he saw from afar menand women leaving their fields theirvineyards hastening towards citygates.And he heard their voices calling hisname, shouting from field to fieldtelling one another of coming of hisship.And he said to himself:Shall day of parting be day ofgathering?And shall it be said that my eve was intruth my dawn?And what shall I give unto him who hasleft his plough in midfurrow, or tohim who has stopped wheel of hiswinepress?  my heart become atree heavy-laden with fruit that I maygather give unto them?And shall my desires flow like afountain that I may fill their cups?Am I harp that hand of mightymay touch me, or flute that his breathmay pass through me?A seeker of silences am I, whattreasure have I found in silences that Imay dispense with confidence?If this is my day of harvest, in whatfields have I sowed seed, inwhat unremembered seasons?If this indeed be hour in which Ilift up my lantern, it is not my flamethat shall burn therein.Empty dark shall I raise my lantern,And guardian of night shall fillit with oil he shall light it also.*****These things he said in words. But muchin his heart remained unsaid. For  could not speak his deepersecret.*****[Illustration: 0020]And when he entered into city allthe people came to meet him, theywere crying out to him as with onevoice.And elders of city stood forthand said:Go not yet away from us.A noontide have you been in ourtwilight, your youth has given usdreams to dream.No stranger are you among us, nora guest, but our son our dearlybeloved.Suffer not yet our eyes to hunger foryour face.*****And priests priestesses saidunto him:Let not waves of sea separate usnow, years you have spent in ourmidst become memory.You have walked among us spirit, your shadow has been lightupon our faces.Much have we loved you. But speechlesswas our love, with veils has it beenveiled.Yet now it cries aloud unto you, andwould stand revealed before you.And ever has it been that love knowsnot its own depth until hour ofseparation.*****And others came also entreated him.But he answered them not. He only benthis head; those who stood near sawhis tears falling upon his breast.And he people proceeded towardsthe great square before temple.And there came out of sanctuary awoman whose name was Almitra. And shewas seeress.And he looked upon her with exceedingtenderness, for it was she who had firstsought believed in him when he hadbeen but day in their city.  hailed him, saying:Prophet of God, in quest of theuttermost, long have you searched thedistances for your ship.And now your ship has come, you mustneeds go.Deep is your longing for land ofyour memories dwelling placeof your greater desires; our lovewould not bind you nor our needs holdyou.Yet this we ask ere you leave us, thatyou speak to us give us of yourtruth.And we will give it unto our children,and they unto their children, itshall not perish.In your aloneness you have watched withour days, in your wakefulness youhave listened to weeping thelaughter of our sleep.Now therefore disclose us to ourselves,and tell us all that has been shownyou of that which is between birth anddeath.*****And he answered,People of Orphalese, of what can I save of that which is even nowmoving within your souls?***** *****Then said Almitra, Speak to us of_Love_.And he raised his head looked uponthe people, there fell stillnessupon them. And with great voice hesaid:When love beckons to you, follow him,Though his ways are hard steep.And when his wings enfold you yield tohim,Though sword hidden among hispinions may wound you.And when he speaks to you believe inhim,Though his voice may shatter your dreamsas north wind lays waste garden.For even as love crowns you so shallhe crucify you. Even as he is for yourgrowth so is he for your pruning.Even as he ascends to your height your tenderest branchesthat quiver in sun,So shall he descend to your roots andshake them in their clinging to theearth.*****Like sheaves of corn he gathers you untohimself.He threshes you to make you naked.He sifts you to free you from yourhusks.He grinds you to whiteness.He kneads you until you are pliant;And then he assigns you to his sacredfire, that you may become sacred breadfor God’s sacred feast.*****All these things shall love do unto youthat you may know secrets of yourheart, in that knowledge become afragment of Life’s heart.But if in your fear you would seek onlylove’s peace love’s pleasure,Then it is better for you that youcover  nakedness pass out oflove’s threshing-floor,Into seasonless world where youshall laugh, but not all of yourlaughter, weep, but not all of yourtears.*****Love gives naught but itself takesnaught but from itself.Love possesses not nor would it bepossessed;For love is sufficient unto love.When you love you should not say, “Godis in my heart,” but rather, “I am inthe heart of God.”And think not you can direct courseof love, for love, if it finds youworthy, directs your course.Love has no other desire but to fulfilitself.But if you love must needs havedesires, let these be your desires:To melt be like running brook thatsings its melody to night.  pain of too much tenderness.To be wounded by your own understandingof love;And to bleed willingly joyfully.To wake at dawn with winged heart andgive thanks for another day of loving;To rest at noon hour meditatelove’s ecstacy;To return home at eventide withgratitude;And then to sleep with prayer forthe beloved in your heart song ofpraise upon your lips.[Illustration: 0029]***** ***** Almitra spoke again said,And what of _Marriage_ master?And he answered saying:You were born together, together youshall be forevermore.You shall be together when whitewings of death scatter your days.Aye, you shall be together even in thesilent memory of God.But let there be spaces in yourtogetherness,And let winds of heavens dancebetween you.*****Love one another, but make not bond oflove:Let it rather be moving sea betweenthe shores of your souls.Fill each other’s cup but drink not fromone cup.Give one another of your bread but eatnot from same loaf.  anddance together be joyous, but leteach one of you be alone,Even as strings of lute are alonethough they quiver with same music.*****Give your hearts, but not into eachother’s keeping.For only hand of Life can containyour hearts.And stand together yet not too neartogether:For pillars of temple standapart,And oak tree cypress grownot in each other’s shadow.[Illustration: 0032]***** ***** woman who held babeagainst her bosom said, Speak to us of_Children_.And he said:Your children are not your children.They are sons daughters ofLife’s longing for itself.They come through you but not from you,And though they are with you yet theybelong not to you.*****You may give them your love but not yourthoughts,For they have their own thoughts.You may house their bodies but not theirsouls,For their souls dwell in house oftomorrow, which you cannot visit, noteven in your dreams.You may strive to be like them, but seeknot to make them like you.  goes not backward nor tarries withyesterday.You are bows from which yourchildren as living arrows are sentforth.The archer sees mark upon pathof infinite, He bends you withHis might that His arrows may go swiftand far.Let your bending in Archer’s hand befor gladness;For even as he loves arrow thatflies, so He loves also bow that isstable.***** ***** said rich man, Speak to us of_Giving_.And he answered:You give but little when you give ofyour possessions.It is when you give of yourself that youtruly give.For what are your possessions but thingsyou keep guard for fear you may needthem tomorrow?And tomorrow, what shall tomorrow bringto overprudent dog burying bonesin trackless sand as he follows thepilgrims to holy city?And what is fear of need but needitself?Is not dread of thirst when your well isfull, thirst that is unquenchable?There are those who give little of which they have--and they giveit for recognition their hiddendesire makes their gifts unwholesome.And there are those who have little andgive it all.These are believers in life andthe bounty of life, their coffer isnever empty.There are those who give with joy, andthat joy is their reward.And there are those who give with pain,and that pain is their baptism.And there are those who give knownot pain in giving, nor do they seekjoy, nor give with mindfulness ofvirtue;They give as in yonder valley myrtlebreathes its fragrance into space.Through hands of such as these Godspeaks, from behind their eyes Hesmiles upon earth.[Illustration: 0039]It is well to give when asked, but itis better to give unasked, throughunderstanding;And to open-handed search for who shall receive is joy greaterthan giving.And is there aught you would withhold?All you have shall some day be given;Therefore give now, that seasonof giving may be yours not yourinheritors’.You often say, “I would give, but onlyto deserving.”The trees in your orchard say not so,nor flocks in your pasture.They give that they may live, for towithhold is to perish.Surely he who is worthy to receive hisdays his nights, is worthy of allelse from you.And he who has deserved to drink fromthe ocean of life deserves to fill hiscup from your little stream.And what desert greater shall there be,than that which lies in courageand confidence, nay charity, ofreceiving?And who are you that men should rend bosom unveil their pride,that you may see their worth naked andtheir pride unabashed?See first that you yourself deserve tobe giver, instrument of giving.For in truth it is life that gives untolife--while you, who deem yourself agiver, are but witness.And you receivers--and you areall receivers--assume no weight ofgratitude, lest you lay yoke uponyourself upon him who gives.Rather rise together with giver onhis gifts as on wings;For to be overmindful of your debt, isito doubt his generosity who has thefreehearted earth for mother, Godfor father.[Illustration: 0042]***** ***** old man, keeper of aninn, said, Speak to us of _Eating andDrinking_.And he said:Would that you could live on thefragrance of earth, like airplant be sustained by light.But since you must kill to eat, robthe newly born of its mother’s milk toquench your thirst, let it then be anact of worship,And let your board stand altar onwhich pure innocent offorest plain are sacrificed for thatwhich is purer still more innocentin man.*****When you kill beast say to him in yourheart,“By same power that slays you, I tooam slain; I too shall be consumed. law that delivered you intomy hand shall deliver me into mightierhand.Your blood my blood is naught butthe sap that feeds tree of heaven.”*****And when you crush apple with yourteeth, say to it in your heart,“Your seeds shall live in my body,And buds of your tomorrow shallblossom in my heart,And your fragrance shall be my breath,And together we shall rejoice throughall seasons.”*****And in autumn, when you gatherthe grapes of your vineyards for thewinepress, say in your heart,“I too am vineyard, my fruit shallbe gathered for winepress,And like new wine I shall be kept ineternal vessels.”And in winter, when you draw wine, there be in your heart songfor each cup;And let there be in song aremembrance for autumn days, forthe vineyard, for winepress.********** Then ploughman said, Speakto us of _Work_.And he answered, saying:You work that you may keep pace with theearth soul of earth.For to be idle is to become strangerunto seasons, to step out oflife’s procession, that marches inmajesty proud submission towards theinfinite.When you work you are flute throughwhose heart whispering of hoursturns to music.Which of you would be reed, dumb andsilent, when all else sings together inunison?Always you have been told that work is acurse labour misfortune.But I say to you that when you work youfulfil part of earth’s furthest dream, to you when that dream wasborn,And in keeping yourself with labour youare in truth loving life,And to love life through labour is to beintimate with life’s inmost secret.*****But if you in your pain call birth anaffliction support of flesha curse written upon your brow, then Ianswer that naught but sweat ofyour brow shall wash away that which iswritten.You have been told also that life isdarkness, in your weariness you echowhat was said by weary.And I say that life is indeed darkness‘save when there is urge,And all urge is blind save when there isknowledge,And all knowledge is vain save whenthere is work,And all work is empty save when there islove;And when you work with love you bind to yourself, to oneanother, to God.*****And what is it to work with love?It is to weave cloth with threadsdrawn from your heart, even as if yourbeloved were to wear that cloth.It is to build house with affection,even as if your beloved were to dwell inthat house.It is to sow seeds with tenderness andreap harvest with joy, even as ifyour beloved were to eat fruit.It is to charge all things you fashionwith breath of your own spirit,And to know that all blessed deadare standing about you watching.Often have I heard you say, as ifspeaking in sleep, “He who works inmarble, finds shape of his ownsoul in stone, is nobler than he whoploughs soil.  he who seizesthe rainbow to lay it on cloth in thelikeness of man, is more than he whomakes sandals for our feet.”But I say, not in sleep but in theoverwakefulness of noontide, that thewind speaks not more sweetly to thegiant oaks than to least of all theblades of grass;And he alone is great who turns thevoice of wind into song madesweeter by his own loving.*****Work is love made visible.And if you cannot work with love butonly with distaste, it is better thatyou should leave your work sit atthe gate of temple take alms ofthose who work with joy.For if you bake bread with indifference,you bake bitter bread that feeds buthalf man’s hunger.And if you grudge crushing of thegrapes, your grudge distils poison inthe wine.  if you sing though asangels, love not singing, youmuffle man’s ears to voices of theday voices of night.***** ***** woman said, Speak to us of_Joy Sorrow_.And he answered:Your joy is your sorrow unmasked.And selfsame well from which yourlaughter rises was oftentimes filledwith your tears.And how else can it be?The deeper that sorrow carves into yourbeing, more joy you can contain.Is not cup that holds your wine thevery cup that was burned in potter’soven?And is not lute that soothes yourspirit, very wood that was hollowedwith knives?When you are joyous, look deep into yourheart you shall find it is onlythat which has given you sorrow that isgiving you joy.When you are sorrowful look again in heart, you shall see thatin truth you are weeping for that whichhas been your delight.*****Some of you say, “Joy is greater thansorrow,” others say, “Nay, sorrow isthe greater.”But I say unto you, they areinseparable.Together they come, when one sitsalone with you at your board, rememberthat other is asleep upon your bed.Verily you are suspended like scalesbetween your sorrow your joy.Only when you are empty are you atstandstill balanced.When treasure-keeper lifts you toweigh his gold his silver, needsmust your joy or your sorrow rise orfall.***** ***** mason came forth said,Speak to us of _Houses_.And he answered said:Build of your imaginings bower in thewilderness ere you build house withinthe city walls.For even as you have home-comings inyour twilight, so has wanderer inyou, ever distant alone.Your house is your larger body.It grows in sun sleeps in thestillness of night; it is notdreamless. Does not your house dream?and dreaming, leave city for groveor hilltop?Would that I could gather your housesinto my hand, like sower scatterthem in forest meadow.Would valleys were your streets, andthe green paths your alleys, that you seek one another throughvineyards, come with fragranceof earth in your garments.But these things are not yet to be.In their fear your forefathers gatheredyou too near together. And that fearshall endure little longer. A littlelonger shall your city walls separateyour hearths from your fields.*****And tell me, people of Orphalese, whathave you in these houses? And what is ityou guard with fastened doors?Have you peace, quiet urge thatreveals your power?Have you remembrances, glimmeringarches that span summits of themind?Have you beauty, that leads heartfrom things fashioned of wood stoneto holy mountain?Tell me, have you these in your houses?Or have you only comfort, lustfor comfort, that stealthy thing that house guest, thenbecomes host, then master?*****Ay, it becomes tamer, withhook scourge makes puppets of yourlarger desires.Though its hands are silken, its heartis of iron.It lulls you to sleep only to stand byyour bed jeer at dignity of theflesh.It makes mock of your sound senses, andlays them in thistledown like fragilevessels.Verily lust for comfort murdersthe passion of soul, then walksgrinning in funeral.But you, children of space, you restlessin rest, you shall not be trapped nortamed.Your house shall be not anchor but amast.It shall not be glistening film that wound, but eyelid thatguards eye.You shall not fold your wings that youmay pass through doors, nor bend yourheads that they strike not against aceiling, nor fear to breathe lest wallsshould crack fall down.You shall not dwell in tombs made by thedead for living.And though of magnificence andsplendour, your house shall not holdyour secret nor shelter your longing.For that which is boundless in youabides in mansion of sky, whosedoor is morning mist, whosewindows are songs silencesof night.***** ***** weaver said, Speak to us of_Clothes_.And he answered:Your clothes conceal much of yourbeauty, yet they hide not theunbeautiful.And though you seek in garments thefreedom of privacy you may find in thema harness chain.Would that you could meet sun andthe wind with more of your skin lessof your raiment,For breath of life is in thesunlight hand of life is in thewind.Some of you say, “It is north windwho has woven clothes we wear.”And I say, Ay, it was north wind,But shame was his loom, thesoftening of sinews was his thread.And when his work was done he laughed inthe forest.  not that modestyis for shield against eye of theunclean.And when unclean shall be no more,what were modesty but fetter afouling of mind?And forget not that earth delightsto feel your bare feet windslong to play with your hair.***** ***** merchant said, Speak to us of_Buying Selling_.And he answered said:To you earth yields her fruit, andyou shall not want if you but know howto fill your hands.It is in exchanging gifts of theearth that you shall find abundance andbe satisfied.Yet unless exchange be in love andkindly justice, it will but lead some togreed others to hunger.When in market place you toilers ofthe sea fields vineyards meetthe weavers potters thegatherers of spices,--Invoke then master spirit of theearth, to come into your midst andsanctify scales reckoningthat weighs value against value.  not barren-handed to takepart in your transactions, who wouldsell their words for your labour.To such men you should say,“Come with us to field, or go withour brothers to sea cast yournet;For land sea shall bebountiful to you even as to us.”*****And if there come singers thedancers flute players,--buy oftheir gifts also.For they too are gatherers of fruit andfrankincense, that which they bring,though fashioned of dreams, is raimentand food for your soul.And before you leave market place,see that no one has gone his way withempty hands.For master spirit of earth shallnot sleep peacefully upon windtill needs of least of you aresatisfied.***** ***** one of judges of citystood forth said, Speak to us of_Crime Punishment_.And he answered, saying:It is when your spirit goes wanderingupon wind,That you, alone unguarded, commita wrong unto others therefore untoyourself.And for that wrong committed must youknock wait while unheeded at thegate of blessed.Like ocean is your god-self;It remains for ever undefiled.And like ether it lifts but thewinged.Even like sun is your god-self;It knows not ways of mole norseeks it holes of serpent. your god-self dwells not alonein your being.Much in you is still man, much inyou is not yet man,But shapeless pigmy that walks asleepin mist searching for its ownawakening.And of man in you would I now speak.For it is he not your god-self northe pigmy in mist, that knows crimeand punishment of crime.*****Oftentimes have I heard you speak of onewho commits wrong as though he werenot one of you, but stranger unto youand intruder upon your world.But I say that even as holy therighteous cannot rise beyond highestwhich is in each one of you,So wicked weak cannot falllower than lowest which is in youalso.And as single leaf turns not yellowbut with silent knowledge of thewhole tree,  wrong-doer cannotdo wrong without hidden will of youall.Like procession you walk togethertowards your god-self.[Illustration: 0064]You are way wayfarers.And when one of you falls down he fallsfor those behind him, caution againstthe stumbling stone.Ay, he falls for those ahead of him,who though faster surer of foot, yetremoved not stumbling stone.And this also, though word lie heavyupon your hearts:The murdered is not unaccountable forhis own murder,And robbed is not blameless in beingrobbed.The righteous is not innocent of thedeeds of wicked,And white-handed is not clean in thedoings of felon.Yea, guilty is oftentimes victimof injured,And still more often condemned is burden bearer for guiltlessand unblamed.You cannot separate just from theunjust good from wicked;For they stand together before faceof sun even as black thread andthe white are woven together.And when black thread breaks, theweaver shall look into whole cloth,and he shall examine loom also.*****If any of you would bring to judgmentthe unfaithful wife,Let him also weigh heart of herhusband in scales, measure his soulwith measurements.And let him who would lash offenderlook unto spirit of offended.And if any of you would punish in thename of righteousness lay axunto evil tree, let him see to itsroots;And verily he will find roots of thegood bad, fruitful all entwined together inthe silent heart of earth.And you judges who would be just,What judgment pronounce you upon himwho though honest in flesh yet is athief in spirit?What penalty lay you upon him who slaysin flesh yet is himself slain in thespirit?And how prosecute you him who in actionis deceiver oppressor,Yet who also is aggrieved outraged?*****And how shall you punish those whoseremorse is already greater than theirmisdeeds?Is not remorse justice which isadministered by that very law which youwould fain serve?Yet you cannot lay remorse upon theinnocent nor lift it from heart ofthe guilty.Unbidden shall it call in night,that men may wake gaze uponthemselves.  you who wouldunderstand justice, how shall you unlessyou look upon all deeds in fullnessof light?Only then shall you know that erectand fallen are but one man standingin twilight between night of hispigmy-self day of his god-self,And that corner-stone of templeis not higher than lowest stone inits foundation.***** ***** lawyer said, But what of our_Laws_, master?And he answered:You delight in laying down laws,Yet you delight more in breaking them.Like children playing by ocean whobuild sand-towers with constancy andthen destroy them with laughter.But while you build your sand-towers theocean brings more sand to shore,And when you destroy them oceanlaughs with you.Verily ocean laughs always with theinnocent.But what of those to whom life is notan ocean, man-made laws are notsand-towers,But to whom life is rock, lawa chisel with which they would carve itin their own likeness?  of thecripple who hates dancers?What of ox who loves his yoke anddeems elk deer of foreststray vagrant things?What of old serpent who cannot shedhis skin, calls all others naked andshameless?And of him who comes early to thewedding-feast, when over-fed andtired goes his way saying that allfeasts are violation all feasterslawbreakers?*****What shall I say of these save thatthey too stand in sunlight, but withtheir backs to sun?They see only their shadows, theirshadows are their laws.And what is sun to them but casterof shadows?And what is it to acknowledge thelaws but to stoop down trace theirshadows upon earth?But you who walk facing sun, what drawn on earth can holdyou?You who travel with wind, whatweather-vane shall direct your course?What man’s law shall bind you if youbreak your yoke but upon no man’s prisondoor?What laws shall you fear if you dancebut stumble against no man’s ironchains?And who is he that shall bring you tojudgment if you tear off your garmentyet leave it in no man’s path?*****People of Orphalese, you can muffle thedrum, you can loosen stringsof lyre, but who shall command theskylark not to sing?***** ***** orator said, Speak to us of_Freedom_.And he answered:At city gate by your firesideI have seen you prostrate yourself andworship your own freedom,Even as slaves humble themselves beforea tyrant praise him though he slaysthem.Ay, in grove of temple inthe shadow of citadel I have seenthe freest among you wear their freedomas yoke handcuff.And my heart bled within me; for youcan only be free when even desireof seeking freedom becomes harnessto you, when you cease to speak offreedom as goal fulfilment.You shall be free indeed when yourdays are not without care nor your without want grief,But rather when these things girdle yourlife yet you rise above them nakedand unbound.*****And how shall you rise beyond your daysand nights unless you break thechains which you at dawn of yourunderstanding have fastened around yournoon hour?In truth that which you call freedom isthe strongest of these chains, thoughits links glitter in sun dazzleyour eyes.And what is it but fragments of yourown self you would discard that you maybecome free?If it is unjust law you wouldabolish, that law was written with yourown hand upon your own forehead.You cannot erase it by burning your lawbooks nor by washing foreheads ofyour judges, though you pour seaupon them.And if it is despot you would see first that his throneerected within you is destroyed.For how can tyrant rule free andthe proud, but for tyranny in theirown freedom shame in their ownpride?And if it is care you would cast off,that cart has been chosen by you ratherthan imposed upon you.And if it is fear you would dispel,the seat of that fear is in your heartand not in hand of feared.*****Verily all things move within your beingin constant half embrace, desiredand dreaded, repugnant thecherished, pursued that whichyou would escape.These things move within you as lightsand shadows in pairs that cling.And when shadow fades is nomore, light that lingers becomes ashadow to another light.And thus your freedom when it loses itsfetters becomes itself fetter of agreater freedom.***** ***** priestess spoke againand said: Speak to us of _Reason andPassion_.And he answered, saying:Your soul is oftentimes battlefield,upon which your reason your judgmentwage war against your passion yourappetite.Would that I could be peacemaker inyour soul, that I might turn discordand rivalry of your elements intooneness melody.But how shall I, unless you yourselvesbe also peacemakers, nay, loversof all your elements?Your reason your passion are therudder sails of your seafaringsoul.If either your sails or your rudder bebroken, you can but toss drift,or else be held at standstill inmid-seas.  reason, ruling alone,is force confining; passion,unattended, is flame that burns to itsown destruction.Therefore let your soul exalt yourreason to height of passion, that itmay sing;And let it direct your passion withreason, that your passion may livethrough its own daily resurrection,and like phoenix rise above its ownashes.*****I would have you consider your judgmentand your appetite even as you would twoloved guests in your house.Surely you would not honour one guestabove other; for he who is moremindful of one loses love thefaith of bothAmong hills, when you sit in thecool shade of white poplars, sharingthe peace serenity of distant fieldsand meadows--then let your heart say insilence, “God rests in reason.”And when storm comes, wind shakes forest,and thunder lightning proclaim themajesty of sky,--then let your heartsay in awe, “God moves in passion.”And since you are breath in God’ssphere, leaf in God’s forest, youtoo should rest in reason move inpassion.***** ***** woman spoke, saying, Tell usof _Pain_.And he said:Your pain is breaking of shellthat encloses your understanding.Even as stone of fruit mustbreak, that its heart may stand in thesun, so must you know pain.And could you keep your heart in wonderat daily miracles of your life, yourpain would not seem less wondrous thanyour joy;And you would accept seasons of yourheart, even as you have always acceptedthe seasons that pass over your fields.And you would watch with serenitythrough winters of your grief.Much of your pain is self-chosen.It is bitter potion by which thephysician  you heals your sickself.Therefore trust physician, drinkhis remedy in silence tranquillity:For his hand, though heavy hard, isguided by tender hand of Unseen,And cup he brings, though it burnyour lips, has been fashioned of theclay which Potter has moistened withHis own sacred tears.***** ***** man said, Speak to us of_Self-Knowledge_.And he answered, saying:Your hearts know in silence secretsof days nights.But your ears thirst for sound ofyour heart’s knowledge.You would know in words that which youhave always known in thought.You would touch with your fingers thenaked body of your dreams.And it is well you should.The hidden well-spring of your soul mustneeds rise run murmuring to sea;And treasure of your infinite depthswould be revealed to your eyes.But let there be no scales to weigh yourunknown treasure;And seek not depths of your with staff or soundingline.For self is sea boundless andmeasureless.*****Say not, “I have found truth,” butrather, “I have found truth.”Say not, “I have found path of thesoul.” Say rather, “I have met soulwalking upon my path.”For soul walks upon all paths.The soul walks not upon line, neitherdoes it grow like reed.The soul unfolds itself, like lotus ofcountless petals.[Illustration: 0083]***** ***** said teacher, Speak to us of_Teaching_.And he said:“No man can reveal to you aught but thatwhich already lies half asleep in thedawning of your knowledge.The teacher who walks in shadow ofthe temple, among his followers, givesnot of his wisdom but rather of hisfaith his lovingness.If he is indeed wise he does not bidyou enter house of his wisdom, butrather leads you to threshold ofyour own mind.The astronomer may speak to you of hisunderstanding of space, but he cannotgive you his understanding.The musician may sing to you of therhythm which is in all space, but hecannot give you ear which arreststhe rhythm nor voice that echoes it. he who is versed in scienceof numbers can tell of regionsof weight measure, but he cannotconduct you thither.For vision of one man lends not itswings to another man.And even as each one of you stands alonein God’s knowledge, so must each one ofyou be alone in his knowledge of God andin his understanding of earth.***** ***** youth said, Speak to us of_Friendship_.And he answered, saying:Your friend is your needs answered.He is your field which you sow with loveand reap with thanksgiving.And he is your board your fireside.For you come to him with your hunger,and you seek him for peace.When your friend speaks his mind youfear not “nay” in your own mind, nordo you withhold “ay.”And when he is silent your heart ceasesnot to listen to his heart;For without words, in friendship, allthoughts, all desires, all expectationsare born shared, with joy that isunacclaimed.When you part from your friend, yougrieve not;For that which you love most in himmay be clearer in his absence, as themountain to climber is clearerfrom plain.  let there be nopurpose in friendship save deepeningof spirit.For love that seeks aught but thedisclosure of its own mystery is notlove but net cast forth: only theunprofitable is caught.*****And let your best be for your friend.If he must know ebb of your tide,let him know its flood also.For what is your friend that you shouldseek him with hours to kill?Seek him always with hours to live.For it is his to fill your need, but notyour emptiness.And in sweetness of friendshiplet there be laughter, sharing ofpleasures.For in dew of little thingsthe heart finds its morning isrefreshed.***** ***** then scholar said, Speak of_Talking_.And he answered, saying:You talk when you cease to be at peacewith your thoughts;And when you can no longer dwell in thesolitude of your heart you live in yourlips, sound is diversion apastime.And in much of your talking, thinking ishalf murdered.For thought is bird of space, that ina cage of words may indeed unfold itswings but cannot fly.There are those among you who seek thetalkative through fear of being alone.The silence of aloneness reveals totheir eyes their naked selves theywould escape.And there are those who talk, knowledge or forethought reveala truth which they themselves do notunderstand.And there are those who have truthwithin them, but they tell it not inwords.In bosom of such as these spiritdwells in rhythmic silence.*****When you meet your friend on theroadside or in market place, let thespirit in you move your lips directyour tongue.Let voice within your voice speak tothe ear of his ear;For his soul will keep truth ofyour heart as taste of wine isrememberedWhen colour is forgotten thevessel is no more.***** ***** astronomer said, Master, whatof _Time_?And he answered:You would measure time measurelessand immeasurable.You would adjust your conduct andeven direct course of your spiritaccording to hours seasons.Of time you would make stream uponwhose bank you would sit watch itsflowing.Yet timeless in you is aware oflife’s timelessness,And knows that yesterday is but today’smemory tomorrow is today’s dream.And that that which sings andcontemplates in you is still dwellingwithin bounds of that first momentwhich scattered stars into space. among you does not feel that hispower to love is boundless?And yet who does not feel that verylove, though boundless, encompassedwithin centre of his being, andmoving not from love thought to lovethought, nor from love deeds to otherlove deeds?And is not time even as love is,undivided paceless?*****But if in your thought you must measuretime into seasons, let each seasonencircle all other seasons,And let today embrace past withremembrance future with longing.***** ***** one of elders of citysaid, Speak to us of _Good Evil_.And he answered:Of good in you I can speak, but notof evil.For what is evil but good tortured byits own hunger thirst?Verily when good is hungry it seeks foodeven in dark caves, when it thirstsit drinks even of dead waters.You are good when you are one withyourself.Yet when you are not one with yourselfyou are not evil.For divided house is not den ofthieves; it is only divided house.And ship without rudder may wanderaimlessly among perilous isles yet sinknot to bottom.  are good whenyou strive to give of yourself.Yet you are not evil when you seek gainfor yourself.For when you strive for gain you arebut root that clings to earth andsucks at her breast.Surely fruit cannot say to root,“Be like me, ripe full evergiving of your abundance.”For to fruit giving is need, asreceiving is need to root.*****You are good when you are fully awake inyour speech,Yet you are not evil when you sleepwhile your tongue staggers withoutpurpose.And even stumbling speech may strengthena weak tongue.You are good when you walk to your goalfirmly with bold steps.Yet you are not evil when you go thitherlimping.  those who limp go notbackward.But you who are strong swift, seethat you do not limp before lame,deeming it kindness.*****You are good in countless ways, youare not evil when you are not good,You are only loitering sluggard.Pity that stags cannot teachswiftness to turtles.In your longing for your giant self liesyour goodness: that longing is inall of you.But in some of you that longing is atorrent rushing with might to sea,carrying secrets of hillsidesand songs of forest.And in others it is flat stream thatloses itself in angles bends andlingers before it reaches shore.But let not him who longs much say to who longs little, “Wherefore areyou slow halting?”For truly good ask not naked,“Where is your garment?” nor thehouseless, “What has befallen yourhouse?”***** ***** priestess said, Speak to usof _Prayer_.And he answered, saying:You pray in your distress in yourneed; would that you might pray alsoin fullness of your joy in yourdays of abundance.For what is prayer but expansion ofyourself into living ether?And if it is for your comfort to pouryour darkness into space, it is also foryour delight to pour forth dawningof your heart.And if you cannot but weep when yoursoul summons you to prayer, she shouldspur you again yet again, thoughweeping, until you shall come laughing.When you pray you rise to meet in theair those who are praying at that very whom save in prayer youmay not meet.Therefore let your visit to that templeinvisible be for naught but ecstasy andsweet communion.For if you should enter temple forno other purpose than asking you shallnot receive:And if you should enter into it tohumble yourself you shall not be lifted:Or even if you should enter into it tobeg for good of others you shall notbe heard.It is enough that you enter templeinvisible.*****I cannot teach you how to pray in words.God listens not to your words save whenHe Himself utters them through yourlips.And I cannot teach you prayer of theseas forests mountains. you who are born of themountains forests seascan find their prayer in your heart,And if you but listen in stillnessof night you shall hear them sayingin silence,“Our God, who art our winged self, it isthy will in us that willeth.It is thy desire in us that desireth.It is thy urge in us that would turn ournights, which are thine, into days whichare thine also.We cannot ask thee for aught, for thouknowest our needs before they are bornin us:Thou art our need; in giving us moreof thyself thou givest us all.”[Illustration: 0100]***** ***** hermit, who visited cityonce year, came forth said, Speakto us of _Pleasure_.And he answered, saying:Pleasure is freedom-song,But it is not freedom.It is blossoming of your desires,But it is not their fruit.It is depth calling unto height,But it is not deep nor high.It is caged taking wing,But it is not space encompassed.Ay, in very truth, pleasure is afreedom-song.And I fain would have you sing it withfullness of heart; yet I would not haveyou lose your hearts in singing.Some of your youth seek pleasure as ifit were all, they are judged andrebuked.  would not judge norrebuke them. I would have them seek.For they shall find pleasure, but nother alone;Seven are her sisters, least ofthem is more beautiful than pleasure.Have you not heard of man who wasdigging in earth for roots founda treasure?*****And some of your elders rememberpleasures with regret like wrongscommitted in drunkenness.But regret is beclouding of mindand not its chastisement.They should remember their pleasureswith gratitude, as they would theharvest of summer.Yet if it comforts them to regret, letthem be comforted.And there are among you those whoare neither young to seek nor old toremember;And in their fear of seeking andremembering  shun all pleasures,lest they neglect spirit or offendagainst it.But even in their foregoing is theirpleasure.And thus they too find treasure thoughthey dig for roots with quivering hands.But tell me, who is he that can offendthe spirit?Shall nightingale offend thestillness of night, or fireflythe stars?And shall your flame or your smokeburden wind?Think you spirit is still poolwhich you can trouble with staff?*****Oftentimes in denying yourself pleasureyou do but store desire in therecesses of your being.Who knows but that which seems omittedtoday, waits for tomorrow?Even your body knows its heritageand its rightful need will not bedeceived.And your body is harp of your soul,And it is yours to bring forth  from it or confused sounds.*****And now you ask in your heart, “Howshall we distinguish that which isgood in pleasure from that which is notgood?”Go to your fields your gardens, andyou shall learn that it is pleasureof bee to gather honey of theflower,But it is also pleasure of theflower to yield its honey to bee.For to bee flower is fountain oflife,And to flower bee is messengerof love,And to both, bee flower, givingand receiving of pleasure is needand ecstasy.People of Orphalese, be in yourpleasures like flowers bees.***** ***** poet said, Speak to us of_Beauty_.And he answered:Where shall you seek beauty, howshall you find her unless she herself beyour way your guide?And how shall you speak of her exceptshe be weaver of your speech?The aggrieved injured say,“Beauty is kind gentle.Like young mother half-shy of her ownglory she walks among us.”And passionate say, “Nay, beauty isa thing of might dread.Like tempest she shakes earthbeneath us sky above us.”The tired weary say, “Beauty isof soft whisperings. She speaks in ourspirit.  voice yields to oursilences like faint light that quiversin fear of shadow.”But restless say, “We have heard hershouting among mountains,And with her cries came sound ofhoofs, beating of wings theroaring of lions.”At night watchmen of city say,“Beauty shall rise with dawn fromthe east.”And at noontide toilers thewayfarers say, “We have seen her leaningover earth from windows of thesunset.”*****In winter say snow-bound, “She shallcome with spring leaping upon thehills.”And in summer heat reaperssay, “We have seen her dancing with theautumn leaves, we saw drift ofsnow in her hair.”  these thingshave you said of beauty,Yet in truth you spoke not of her but ofneeds unsatisfied,And beauty is not need but ecstasy.It is not mouth thirsting nor emptyhand stretched forth,But rather heart enflamed soulenchanted.It is not image you would see northe song you would hear,But rather image you see though youclose your eyes song you hearthough you shut your ears.It is not sap within furrowedbark, nor wing attached to claw,But rather garden for ever in bloomand flock of angels for ever inflight.*****People of Orphalese, beauty is life whenlife unveils her holy face.But you are life you are veil. is eternity gazing at itselfin mirror.But you are eternity you are themirror.***** ***** old priest said, Speak to usof _Religion_.And he said:Have I spoken this day of aught else?Is not religion all deeds allreflection,And that which is neither deed norreflection, but wonder surpriseever springing in soul, even whilethe hands hew stone or tend theloom?Who can separate his faith fromhis actions, or his belief from hisoccupations?Who can spread his hours before him,saving, “This for God this formyself; This for my soul, this otherfor my body?”All your hours are wings that beatthrough space from self to self.  wears his morality but as his bestgarment were better naked.The wind sun will tear no holesin his skin.And he who defines his conduct by ethicsimprisons his song-bird in cage.The freest song comes not through barsand wires.And he to whom worshipping is window,to open but also to shut, has not yetvisited house of his soul whosewindows are from dawn to dawn.*****Your daily life is your temple yourreligion.Whenever you enter into it take with youyour all.Take plough forge themallet lute,The things you have fashioned innecessity or for delight.For in revery you cannot rise above yourachievements nor fall lower than yourfailures.And take with you all men:  inadoration you cannot fly higher thantheir hopes nor humble yourself lowerthan their despair.*****And if you would know God be nottherefore solver of riddles.Rather look about you you shall seeHim playing with your children.And look into space; you shall see Himwalking in cloud, outstretching Hisarms in lightning descending inrain.You shall see Him smiling in flowers,then rising waving His hands intrees.***** ***** Almitra spoke, saying, We wouldask now of _Death_.And he said:You would know secret of death.But how shall you find it unless youseek it in heart of life?The owl whose night-bound eyes are blindunto day cannot unveil mysteryof light.If you would indeed behold spiritof death, open your heart wide unto thebody of life.For life death are one, even as theriver sea are one.In depth of your hopes desireslies your silent knowledge of thebeyond;And like seeds dreaming beneath snowyour heart dreams of spring.Trust dreams, for in them is hiddenthe gate to eternity.  fearof death is but trembling of theshepherd when he stands before kingwhose hand is to be laid upon him inhonour.Is shepherd not joyful beneath histrembling, that he shall wear markof king?Yet is he not more mindful of histrembling?*****For what is it to die but to stand nakedin wind to melt into sun?And what is it to cease breathing, butto free breath from its restlesstides, that it may rise expand andseek God unencumbered?Only when you drink from river ofsilence shall you indeed sing.And when you have reached mountaintop, then you shall begin to climb.And when earth shall claim yourlimbs, then shall you truly dance. now it was evening.And Almitra seeress said, Blessed bethis day this place your spiritthat has spoken.And he answered, Was it I who spoke? WasI not also listener?*****Then he descended steps of theTemple all people followed him.And he reached his ship stood uponthe deck.And facing people again, he raisedhis voice said:People of Orphalese, wind bids meleave you.Less hasty am I than wind, yet Imust go.We wanderers, ever seeking lonelierway, begin no day where we have endedanother day; no sunrise finds uswhere sunset left us.  while theearth sleeps we travel.We are seeds of tenaciousplant, it is in our ripeness ourfullness of heart that we are given tothe wind are scattered.*****Brief were my days among you, andbriefer still words I have spoken.But should my voice fade in your ears,and my love vanish in your memory, thenI will come again,And with richer heart lips moreyielding to spirit will I speak.Yea, I shall return with tide,And though death may hide me, thegreater silence enfold me, yet againwill I seek your understanding.And not in vain will I seek.If aught I have said is truth, thattruth shall reveal itself in clearervoice, in words more kin to yourthoughts.I go with wind, people ofOrphalese, but not down into emptiness; if this day is not fulfilmentof your needs my love, then let itbe promise till another day.Man’s needs change, but not his love,nor his desire that his love shouldsatisfy his needs.Know therefore, that from greatersilence I shall return.The mist that drifts away at dawn,leaving but dew in fields, shallrise gather into cloud thenfall down in rain.And not unlike mist have I been.In stillness of night I havewalked in your streets, my spirithas entered your houses,And your heart-beats were in my heart,and your breath was upon my face, Iknew you all.Ay, I knew your joy your pain,and in your sleep your dreams were mydreams.And oftentimes I was among you lakeamong mountains.I mirrored summits in you slopes, even thepassing flocks of your thoughts yourdesires.And to my silence came laughterof your children in streams, thelonging of your youths in rivers.And when they reached my depth thestreams rivers ceased not yet tosing.[Illustration: 0119]But sweeter still than laughter andgreater than longing came to me.It was boundless in you;The vast man in whom you are all butcells sinews;He in whose chant all your singing isbut soundless throbbing.It is in vast man that you are vast,And in beholding him that I beheld youand loved you.For what distances can love reach thatare not in that vast sphere?What visions, what expectations whatpresumptions can outsoar that flight?Like giant oak tree covered with appleblossoms is vast man in you.  binds you to earth, hisfragrance lifts you into space, inhis durability you are deathless.*****You have been told that, even like achain, you are as weak as your weakestlink.This is but half truth. You are alsoas strong as your strongest link.To measure you by your smallest deedis to reckon power of ocean by thefrailty of its foam.To judge you by your failures is tocast blame upon seasons for theirinconstancy.Ay, you are like ocean,And though heavy-grounded ships awaitthe tide upon your shores, yet, evenlike ocean, you cannot hasten yourtides.And like seasons you are also,And though in your winter you deny yourspring,Yet spring, reposing within you, smilesin her drowsiness is not offended. not I say these things inorder that you may say one to theother, “He praised us well. He saw butthe good in us.”I only speak to you in words of thatwhich you yourselves know in thought.And what is word knowledge but shadowof wordless knowledge?Your thoughts my words are wavesfrom sealed memory that keeps recordsof our yesterdays,And of ancient days when earthknew not us nor herself,And of nights when earth was up-wroughtwith confusion.*****Wise men have come to you to give youof their wisdom. I came to take of yourwisdom:And behold I have found that which isgreater than wisdom.It is flame spirit in you evergathering more of itself,While you, heedless of its expansion,bewail withering of your days. is life in quest of life inbodies that fear grave.*****There are no graves here.These mountains plains are cradleand stepping-stone.Whenever you pass by field whereyou have laid your ancestors look wellthereupon, you shall see yourselvesand your children dancing hand in hand.Verily you often make merry withoutknowing.Others have come to you to whom forgolden promises made unto your faithyou have given but riches power andglory.Less than promise have I given, andyet more generous have you been to me.You have given me my deeper thirstingafter life.Surely there is no greater gift to manthan that which turns all his aimsinto parching lips all life into afountain.[Illustration: 0125] in this lies my honour myreward,--That whenever I come to fountainto drink I find living water itselfthirsty;And it drinks me while I drink it.*****Some of you have deemed me proud andover-shy to receive gifts.Too proud indeed am I to receive wages,but not gifts.And though I have eaten berries amongthe hills when you would have had me sitat your board,And slept in portico of templewhen you would gladly have sheltered me,Yet was it not your loving mindfulnessof my days my nights that made foodsweet to my mouth girdled my sleepwith visions?For this I bless you most:You give much know not that you giveat all.  kindness thatgazes upon itself in mirror turns tostone,And good deed that calls itself bytender names becomes parent to acurse.*****And some of you have called me aloof,and drunk with my own aloneness,And you have said, “He holds councilwith trees of forest, but notwith men.He sits alone on hill-tops looksdown upon our city.”True it is that I have climbed hillsand walked in remote places.How could I have seen you save from agreat height or great distance?How can one be indeed near unless he betar?And others among you called unto me, notin words, they said,“Stranger, stranger, lover ofunreachable heights, why dwell you amongthe summits where eagles buildtheir nests?  seek you theunattainable?What storms would you trap in your net,And what vaporous birds do you hunt inthe sky?Come be one of us.Descend appease your hunger with ourbread quench your thirst with ourwine.”In solitude of their souls they saidthese things;But were their solitude deeper theywould have known that I sought but thesecret of your joy your pain,And I hunted only your larger selvesthat walk sky.*****But hunter was also hunted;For many of my arrows left my bow onlyto seek my own breast.And flier was also creeper;For when my wings were spread in thesun their shadow upon earth was aturtle.And I believer was also doubter; often have I put my fingerin my own wound that I might have thegreater belief in you greaterknowledge of you.*****And it is with this belief thisknowledge that I say,You are not enclosed within your bodies,nor confined to houses or fields.That which is you dwells above themountain roves with wind.It is not thing that crawls intothe sun for warmth or digs holes intodarkness for safety,But thing free, spirit that envelopsthe earth moves in ether.If these be vague words, then seek notto clear them.Vague nebulous is beginning ofall things, but not their end,And I fain would have you remember me asa beginning.Life, all that lives, is conceivedin mist not in crystal. who knows but crystal is mistin decay?*****This would I have you remember inremembering me:That which seems most feeble andbewildered in you is strongest andmost determined.Is it not your breath that has erectedand hardened structure of yourbones?And is it not dream which none of youremember having dreamt, that buildedyour city fashioned all there is init?Could you but see tides of thatbreath you would cease to see all else,And if you could hear whispering ofthe dream you would hear no other sound.But you do not see, nor do you hear, andit is well.The veil that clouds your eyes shall belifted by hands that wove it,And clay that fills your ears shallbe pierced by those fingers that kneadedit.  you shall see.And you shall hear.Yet you shall not deplore having knownblindness, nor regret having been deaf.For in that day you shall know thehidden purposes in all things,And you shall bless darkness as youwould bless light.After saying these things he lookedabout him, he saw pilot of hisship standing by helm gazingnow at full sails now at thedistance.And he said:Patient, over patient, is captain ofmy ship.The wind blows, restless are thesails;Even rudder begs direction;Yet quietly my captain awaits mysilence.And these my mariners, who have heardthe choir of greater sea, they toohave heard me patiently.  theyshall wait no longer.I am ready.The stream has reached sea, andonce more great mother holds her sonagainst her breast.*****Fare you well, people of Orphalese.This day has ended.It is closing upon us even as thewater-lily upon its own tomorrow.What was given us here we shall keep,And if it suffices not, then again mustwe come together together stretchour hands unto giver.Forget not that I shall come back toyou.A little while, my longing shallgather dust foam for another body.A little while, moment of rest uponthe wind, another woman shall bearme.Farewell to you youth I havespent with you.It was but yesterday we met in adream.  have sung to me in myaloneness, I of your longings havebuilt tower in sky.But now our sleep has fled our dreamis over, it is no longer dawn.The noontide is upon us our halfwaking has turned to fuller day, wemust part.If in twilight of memory we shouldmeet once more, we shall speak againtogether you shall sing to me adeeper song.And if our hands should meet in anotherdream we shall build another tower inthe sky.*****So saying he made signal to theseamen, straightway they weighedanchor cast ship loose from itsmoorings, they moved eastward.And cry came from people as from asingle heart, it rose into duskand was carried out over sea like agreat trumpeting.Only Almitra was silent, gazing after ship until it had vanished intothe mist.And when all people were dispersedshe still stood alone upon sea-wall,remembering in her heart his saying,“A little while, moment of rest uponthe wind, another woman shall bearme.”[Illustration: 0134]End of Project Gutenberg EBook of The Prophet, by Kahlil Gibran*** END OF THIS PROJECT GUTENBERG EBOOK THE PROPHET ******** This file should be named 58585-0.txt or 58585-0.zip *****This all associated files of various formats will be found in:        http://www.gutenberg.org/5/8/5/8/58585/Produced by David Widger from page images generouslyprovided by Internet ArchiveUpdated editions will replace previous one--the old editions willbe renamed.Creating works from print editions not protected by U.S. copyrightlaw means that no one owns United States copyright in these works,so Foundation (and you!) can copy distribute it in UnitedStates without permission without paying copyrightroyalties. Special rules, set forth in General Terms of Use partof this license, apply to copying distributing ProjectGutenberg-tm electronic works to protect PROJECT GUTENBERG-tmconcept trademark. Project Gutenberg is registered trademark,and may not be used if you charge for eBooks, unless you receivespecific permission. If you do not charge anything for copies of thiseBook, complying with rules is very easy. You may use this eBookfor nearly any purpose such as creation of derivative works, reports,performances research. They may be modified printed givenaway--you may do practically ANYTHING in United States with eBooksnot protected by U.S. copyright law. Redistribution is subject to thetrademark license, especially commercial redistribution.START: FULL LICENSETHE FULL PROJECT GUTENBERG LICENSEPLEASE READ THIS BEFORE YOU DISTRIBUTE OR USE THIS WORKTo protect Project Gutenberg-tm mission of promoting freedistribution of electronic works, by using or distributing this work(or any other work associated in any way with phrase \"ProjectGutenberg\"), you agree to comply with all terms of FullProject Gutenberg-tm License available with this file or online atwww.gutenberg.org/license.Section 1. General Terms of Use Redistributing ProjectGutenberg-tm electronic works1.A. By reading or using any part of this Project Gutenberg-tmelectronic work, you indicate that you have read, understand, agree toand accept all terms of this license intellectual property(trademark/copyright) agreement. If you do not agree to abide by allthe terms of this agreement, you must cease using return ordestroy all copies of Project Gutenberg-tm electronic works in yourpossession. If you paid fee for obtaining copy of or access to aProject Gutenberg-tm electronic work you do not agree to be boundby terms of this agreement, you may obtain refund from theperson or entity to whom you paid fee as set forth in paragraph1.E.8.1.B. \"Project Gutenberg\" is registered trademark. It may only beused on or associated in any way with electronic work by people whoagree to be bound by terms of this agreement. There are fewthings that you can do with most Project Gutenberg-tm electronic workseven without complying with full terms of this agreement. Seeparagraph 1.C below. There are lot of things you can do with ProjectGutenberg-tm electronic works if you follow terms of thisagreement help preserve free future access to Project Gutenberg-tmelectronic works. See paragraph 1.E below.1.C. The Project Gutenberg Literary Archive Foundation (\"theFoundation\" or PGLAF), owns compilation copyright in collectionof Project Gutenberg-tm electronic works. Nearly all individualworks in collection are in public domain in UnitedStates. If individual work is unprotected by copyright law in theUnited States you are located in United States, we do notclaim right to prevent you from copying, distributing, performing,displaying or creating derivative works based on work as long asall references to Project Gutenberg are removed. Of course, we hopethat you will support Project Gutenberg-tm mission of promotingfree access to electronic works by freely sharing Project Gutenberg-tmworks in compliance with terms of this agreement for keeping theProject Gutenberg-tm name associated with work. You can easilycomply with terms of this agreement by keeping this work in thesame format with its attached full Project Gutenberg-tm License whenyou share it without charge with others.1.D. The copyright laws of place where you are located also governwhat you can do with this work. Copyright laws in most countries arein constant state of change. If you are outside United States,check laws of your country in addition to terms of thisagreement before downloading, copying, displaying, performing,distributing or creating derivative works based on this work or anyother Project Gutenberg-tm work. The Foundation makes norepresentations concerning copyright status of any work in anycountry outside United States.1.E. Unless you have removed all references to Project Gutenberg:1.E.1. The following sentence, with active links to, or otherimmediate access to, full Project Gutenberg-tm License must appearprominently whenever any copy of Project Gutenberg-tm work (any workon which phrase \"Project Gutenberg\" appears, or with which thephrase \"Project Gutenberg\" is associated) is accessed, displayed,performed, viewed, copied or distributed:  This eBook is for use of anyone anywhere in United States  most other parts of world at no cost with almost no  restrictions whatsoever. You may copy it, give it away or re-use it  under terms of Project Gutenberg License included with this  eBook or online at www.gutenberg.org. If you are not located in  United States, you'll have to check laws of country where you  are located before using this ebook.1.E.2. If individual Project Gutenberg-tm electronic work isderived from texts not protected by U.S. copyright law (does notcontain notice indicating that it is posted with permission of thecopyright holder), work can be copied distributed to anyone inthe United States without paying any fees or charges. If you areredistributing or providing access to work with phrase \"ProjectGutenberg\" associated with or appearing on work, you must complyeither with requirements of paragraphs 1.E.1 through 1.E.7 orobtain permission for use of work Project Gutenberg-tmtrademark as set forth in paragraphs 1.E.8 or 1.E.9.1.E.3. If individual Project Gutenberg-tm electronic work is postedwith permission of copyright holder, your use distributionmust comply with both paragraphs 1.E.1 through 1.E.7 anyadditional terms imposed by copyright holder. Additional termswill be linked to Project Gutenberg-tm License for all worksposted with permission of copyright holder found at thebeginning of this work.1.E.4. Do not unlink or detach or remove full Project Gutenberg-tmLicense terms from this work, or any files containing part of thiswork or any other work associated with Project Gutenberg-tm.1.E.5. Do not copy, display, perform, distribute or redistribute thiselectronic work, or any part of this electronic work, withoutprominently displaying sentence set forth in paragraph 1.E.1 withactive links or immediate access to full terms of ProjectGutenberg-tm License.1.E.6. You may convert to distribute this work in any binary,compressed, marked up, nonproprietary or proprietary form, includingany word processing or hypertext form. However, if you provide accessto or distribute copies of Project Gutenberg-tm work in formatother than \"Plain Vanilla ASCII\" or other format used in officialversion posted on official Project Gutenberg-tm web site(www.gutenberg.org), you must, at no additional cost, fee or expenseto user, provide copy, means of exporting copy, or meansof obtaining copy upon request, of work in its original \"PlainVanilla ASCII\" or other form. Any alternate format must include thefull Project Gutenberg-tm License as specified in paragraph 1.E.1.1.E.7. Do not charge fee for access to, viewing, displaying,performing, copying or distributing any Project Gutenberg-tm worksunless you comply with paragraph 1.E.8 or 1.E.9.1.E.8. You may charge reasonable fee for copies of or providingaccess to or distributing Project Gutenberg-tm electronic worksprovided that* You pay royalty fee of 20% of gross profits you derive from  use of Project Gutenberg-tm works calculated using method  you already use to calculate your applicable taxes. The fee is owed  to owner of Project Gutenberg-tm trademark, but he has  agreed to donate royalties under this paragraph to Project  Gutenberg Literary Archive Foundation. Royalty payments must be paid  within 60 days following each date on which you prepare (or are  legally required to prepare) your periodic tax returns. Royalty  payments should be clearly marked as such sent to Project  Gutenberg Literary Archive Foundation at address specified in  Section 4, \"Information about donations to Project Gutenberg  Literary Archive Foundation.\"* You provide full refund of any money paid by user who notifies  you in writing (or by e-mail) within 30 days of receipt that s/he  does not agree to terms of full Project Gutenberg-tm  License. You must require such user to return or destroy all  copies of works possessed in physical medium discontinue  all use of all access to other copies of Project Gutenberg-tm  works.* You provide, in accordance with paragraph 1.F.3, full refund of  any money paid for work or replacement copy, if defect in  electronic work is discovered reported to you within 90 days of  receipt of work.* You comply with all other terms of this agreement for free  distribution of Project Gutenberg-tm works.1.E.9. If you wish to charge fee or distribute ProjectGutenberg-tm electronic work or group of works on different terms thanare set forth in this agreement, you must obtain permission in writingfrom both Project Gutenberg Literary Archive Foundation TheProject Gutenberg Trademark LLC, owner of Project Gutenberg-tmtrademark. Contact Foundation as set forth in Section 3 below.1.F.1.F.1. Project Gutenberg volunteers employees expend considerableeffort to identify, do copyright research on, transcribe proofreadworks not protected by U.S. copyright law in creating ProjectGutenberg-tm collection. Despite these efforts, Project Gutenberg-tmelectronic works, medium on which they may be stored, maycontain \"Defects,\" such as, but not limited to, incomplete, inaccurateor corrupt data, transcription errors, copyright or otherintellectual property infringement, defective or damaged disk orother medium, computer virus, or computer codes that damage orcannot be read by your equipment.1.F.2. LIMITED WARRANTY, DISCLAIMER OF DAMAGES - Except for \"Rightof Replacement or Refund\" described in paragraph 1.F.3, ProjectGutenberg Literary Archive Foundation, owner of ProjectGutenberg-tm trademark, any other party distributing ProjectGutenberg-tm electronic work under this agreement, disclaim allliability to you for damages, costs expenses, including legalfees. YOU AGREE THAT YOU HAVE NO REMEDIES FOR NEGLIGENCE, STRICTLIABILITY, BREACH OF WARRANTY OR BREACH OF CONTRACT EXCEPT THOSEPROVIDED IN PARAGRAPH 1.F.3. YOU AGREE THAT THE FOUNDATION, THETRADEMARK OWNER, AND ANY DISTRIBUTOR UNDER THIS AGREEMENT WILL NOT BELIABLE TO YOU FOR ACTUAL, DIRECT, INDIRECT, CONSEQUENTIAL, PUNITIVE ORINCIDENTAL DAMAGES EVEN IF YOU GIVE NOTICE OF THE POSSIBILITY OF SUCHDAMAGE.1.F.3. LIMITED RIGHT OF REPLACEMENT OR REFUND - If you discover adefect in this electronic work within 90 days of receiving it, you canreceive refund of money (if any) you paid for it by sending awritten explanation to person you received work from. If youreceived work on physical medium, you must return mediumwith your written explanation. The person or entity that provided youwith defective work may elect to provide replacement copy inlieu of refund. If you received work electronically, personor entity providing it to you may choose to give you secondopportunity to receive work electronically in lieu of refund. Ifthe second copy is also defective, you may demand refund in writingwithout further opportunities to fix problem.1.F.4. Except for limited right of replacement or refund set forthin paragraph 1.F.3, this work is provided to you 'AS-IS', WITH NOOTHER WARRANTIES OF ANY KIND, EXPRESS OR IMPLIED, INCLUDING BUT NOTLIMITED TO WARRANTIES OF MERCHANTABILITY OR FITNESS FOR ANY PURPOSE.1.F.5. Some states do not allow disclaimers of certain impliedwarranties or exclusion or limitation of certain types ofdamages. If any disclaimer or limitation set forth in this agreementviolates law of state applicable to this agreement, theagreement shall be interpreted to make maximum disclaimer orlimitation permitted by applicable state law. The invalidity orunenforceability of any provision of this agreement shall not void theremaining provisions.1.F.6. INDEMNITY - You agree to indemnify hold Foundation, thetrademark owner, any agent or employee of Foundation, anyoneproviding copies of Project Gutenberg-tm electronic works inaccordance with this agreement, any volunteers associated with theproduction, promotion distribution of Project Gutenberg-tmelectronic works, harmless from all liability, costs expenses,including legal fees, that arise directly or indirectly from any ofthe following which you do or cause to occur: (a) distribution of thisor any Project Gutenberg-tm work, (b) alteration, modification, oradditions or deletions to any Project Gutenberg-tm work, (c) anyDefect you cause.Section 2. Information about Mission of Project Gutenberg-tmProject Gutenberg-tm is synonymous with free distribution ofelectronic works in formats readable by widest variety ofcomputers including obsolete, old, middle-aged new computers. Itexists because of efforts of hundreds of volunteers donationsfrom people in all walks of life.Volunteers financial support to provide volunteers with theassistance they need are critical to reaching Project Gutenberg-tm'sgoals ensuring that Project Gutenberg-tm collection willremain freely available for generations to come. In 2001, ProjectGutenberg Literary Archive Foundation was created to provide secureand permanent future for Project Gutenberg-tm futuregenerations. To learn more about Project Gutenberg LiteraryArchive Foundation how your efforts donations can help, seeSections 3 4 Foundation information page atwww.gutenberg.org Section 3. Information about Project GutenbergLiterary Archive FoundationThe Project Gutenberg Literary Archive Foundation is non profit501(c)(3) educational corporation organized under laws of thestate of Mississippi granted tax exempt status by InternalRevenue Service. The Foundation's EIN or federal tax identificationnumber is 64-6221541. Contributions to Project Gutenberg LiteraryArchive Foundation are tax deductible to full extent permitted byU.S. federal laws your state's laws.The Foundation's principal office is in Fairbanks, Alaska, with themailing address: PO Box 750175, Fairbanks, AK 99775, but itsvolunteers employees are scattered throughout numerouslocations. Its business office is located at 809 North 1500 West, SaltLake City, UT 84116, (801) 596-1887. Email contact links up todate contact information can be found at Foundation's web site andofficial page at www.gutenberg.org/contactFor additional contact information:    Dr. Gregory B. Newby    Chief Executive Director    gbnewby@pglaf.orgSection 4. Information about Donations to Project GutenbergLiterary Archive FoundationProject Gutenberg-tm depends upon cannot survive without widespread public support donations to carry out its mission ofincreasing number of public domain licensed works that can befreely distributed in machine readable form accessible by widestarray of equipment including outdated equipment. Many small donations($1 to $5,000) are particularly important to maintaining tax exemptstatus with IRS.The Foundation is committed to complying with laws regulatingcharities charitable donations in all 50 states of UnitedStates. Compliance requirements are not uniform it takes aconsiderable effort, much paperwork many fees to meet keep upwith these requirements. We do not solicit donations in locationswhere we have not received written confirmation of compliance. To SENDDONATIONS or determine status of compliance for any particularstate visit www.gutenberg.org/donateWhile we cannot do not solicit contributions from states where wehave not met solicitation requirements, we know of no prohibitionagainst accepting unsolicited donations from donors in such states whoapproach us with offers to donate.International donations are gratefully accepted, but we cannot makeany statements concerning tax treatment of donations received fromoutside United States. U.S. laws alone swamp our small staff.Please check Project Gutenberg Web pages for current donationmethods addresses. Donations are accepted in number of otherways including checks, online payments credit card donations. Todonate, please visit: www.gutenberg.org/donateSection 5. General Information About Project Gutenberg-tm electronic works.Professor Michael S. Hart was originator of ProjectGutenberg-tm concept of library of electronic works that could befreely shared with anyone. For forty years, he produced anddistributed Project Gutenberg-tm eBooks with only loose network ofvolunteer support.Project Gutenberg-tm eBooks are often created from several printededitions, all of which are confirmed as not protected by copyright inthe U.S. unless copyright notice is included. Thus, we do notnecessarily keep eBooks in compliance with any particular paperedition.Most people start at our Web site which has main PG searchfacility: www.gutenberg.orgThis Web site includes information about Project Gutenberg-tm,including how to make donations to Project Gutenberg LiteraryArchive Foundation, how to help produce our new eBooks, how tosubscribe to our email newsletter to hear about new eBooks.\n"
     ]
    }
   ],
   "source": [
    "from functools import reduce\n",
    "prophet_string = reduce(concat_space, prophet_filter)\n",
    "print(prophet_string)"
   ]
  },
  {
   "cell_type": "markdown",
   "metadata": {},
   "source": [
    "Use the function above to reduce the text corpus in the list `prophet_filter` into a single string. Assign this new string to the variable `prophet_string`."
   ]
  },
  {
   "cell_type": "code",
   "execution_count": 33,
   "metadata": {},
   "outputs": [],
   "source": [
    "# your code here"
   ]
  }
 ],
 "metadata": {
  "kernelspec": {
   "display_name": "Python 3 (ipykernel)",
   "language": "python",
   "name": "python3"
  },
  "language_info": {
   "codemirror_mode": {
    "name": "ipython",
    "version": 3
   },
   "file_extension": ".py",
   "mimetype": "text/x-python",
   "name": "python",
   "nbconvert_exporter": "python",
   "pygments_lexer": "ipython3",
   "version": "3.12.7"
  }
 },
 "nbformat": 4,
 "nbformat_minor": 4
}
